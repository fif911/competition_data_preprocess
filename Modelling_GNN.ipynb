{
 "cells": [
  {
   "cell_type": "code",
   "execution_count": 3,
   "metadata": {
    "colab": {
     "base_uri": "https://localhost:8080/",
     "height": 458
    },
    "id": "HiKWbKSBzs0S",
    "outputId": "aee7bfc7-15de-4945-a9d6-5ee632806a92",
    "ExecuteTime": {
     "end_time": "2024-03-21T17:39:04.472029Z",
     "start_time": "2024-03-21T17:39:04.193818Z"
    }
   },
   "outputs": [
    {
     "data": {
      "text/plain": "      Year                  Country A                  Country B  War or not  \\\n0     1970               Afghanistan                    Algeria            0   \n1     1970               Afghanistan                  Argentina            0   \n2     1970               Afghanistan                  Australia            0   \n3     1970               Afghanistan                    Austria            0   \n4     1970               Afghanistan                    Belgium            0   \n...    ...                        ...                        ...         ...   \n7905  1971            United Kingdom   United States of America            0   \n7906  1971            United Kingdom                  Venezuela            0   \n7909  1971  United States of America               Soviet Union            0   \n7908  1971  United States of America                  Venezuela            0   \n7910  1971                 Venezuela               Soviet Union            0   \n\n      gdp_ratio  gdp_per_capita_ratio  Military_expenditure_ratio  \\\n0      0.269549              0.331358                    0.764880   \n1      0.130739              0.247690                    0.867838   \n2      0.085572              0.093302                    0.549422   \n3      0.200369              0.126971                    1.180763   \n4      0.136827              0.112021                    0.558344   \n...         ...                   ...                         ...   \n7905   0.170995              0.639715                    0.731136   \n7906   8.306399              1.681450                    1.880535   \n7909   2.347960              2.031439                    0.578589   \n7908  48.576928              2.628437                    2.572071   \n7910   0.048335              0.772870                    0.224951   \n\n      Democracy_differential  Share Border or not  Political Instability  \n0                          2                    0                      0  \n1                          2                    0                      0  \n2                         17                    0                      0  \n3                         17                    0                      0  \n4                         17                    0                      0  \n...                      ...                  ...                    ...  \n7905                       2                    0                      0  \n7906                       1                    0                      0  \n7909                      15                    0                      0  \n7908                       1                    0                      0  \n7910                      16                    0                      0  \n\n[8275 rows x 10 columns]",
      "text/html": "<div>\n<style scoped>\n    .dataframe tbody tr th:only-of-type {\n        vertical-align: middle;\n    }\n\n    .dataframe tbody tr th {\n        vertical-align: top;\n    }\n\n    .dataframe thead th {\n        text-align: right;\n    }\n</style>\n<table border=\"1\" class=\"dataframe\">\n  <thead>\n    <tr style=\"text-align: right;\">\n      <th></th>\n      <th>Year</th>\n      <th>Country A</th>\n      <th>Country B</th>\n      <th>War or not</th>\n      <th>gdp_ratio</th>\n      <th>gdp_per_capita_ratio</th>\n      <th>Military_expenditure_ratio</th>\n      <th>Democracy_differential</th>\n      <th>Share Border or not</th>\n      <th>Political Instability</th>\n    </tr>\n  </thead>\n  <tbody>\n    <tr>\n      <th>0</th>\n      <td>1970</td>\n      <td>Afghanistan</td>\n      <td>Algeria</td>\n      <td>0</td>\n      <td>0.269549</td>\n      <td>0.331358</td>\n      <td>0.764880</td>\n      <td>2</td>\n      <td>0</td>\n      <td>0</td>\n    </tr>\n    <tr>\n      <th>1</th>\n      <td>1970</td>\n      <td>Afghanistan</td>\n      <td>Argentina</td>\n      <td>0</td>\n      <td>0.130739</td>\n      <td>0.247690</td>\n      <td>0.867838</td>\n      <td>2</td>\n      <td>0</td>\n      <td>0</td>\n    </tr>\n    <tr>\n      <th>2</th>\n      <td>1970</td>\n      <td>Afghanistan</td>\n      <td>Australia</td>\n      <td>0</td>\n      <td>0.085572</td>\n      <td>0.093302</td>\n      <td>0.549422</td>\n      <td>17</td>\n      <td>0</td>\n      <td>0</td>\n    </tr>\n    <tr>\n      <th>3</th>\n      <td>1970</td>\n      <td>Afghanistan</td>\n      <td>Austria</td>\n      <td>0</td>\n      <td>0.200369</td>\n      <td>0.126971</td>\n      <td>1.180763</td>\n      <td>17</td>\n      <td>0</td>\n      <td>0</td>\n    </tr>\n    <tr>\n      <th>4</th>\n      <td>1970</td>\n      <td>Afghanistan</td>\n      <td>Belgium</td>\n      <td>0</td>\n      <td>0.136827</td>\n      <td>0.112021</td>\n      <td>0.558344</td>\n      <td>17</td>\n      <td>0</td>\n      <td>0</td>\n    </tr>\n    <tr>\n      <th>...</th>\n      <td>...</td>\n      <td>...</td>\n      <td>...</td>\n      <td>...</td>\n      <td>...</td>\n      <td>...</td>\n      <td>...</td>\n      <td>...</td>\n      <td>...</td>\n      <td>...</td>\n    </tr>\n    <tr>\n      <th>7905</th>\n      <td>1971</td>\n      <td>United Kingdom</td>\n      <td>United States of America</td>\n      <td>0</td>\n      <td>0.170995</td>\n      <td>0.639715</td>\n      <td>0.731136</td>\n      <td>2</td>\n      <td>0</td>\n      <td>0</td>\n    </tr>\n    <tr>\n      <th>7906</th>\n      <td>1971</td>\n      <td>United Kingdom</td>\n      <td>Venezuela</td>\n      <td>0</td>\n      <td>8.306399</td>\n      <td>1.681450</td>\n      <td>1.880535</td>\n      <td>1</td>\n      <td>0</td>\n      <td>0</td>\n    </tr>\n    <tr>\n      <th>7909</th>\n      <td>1971</td>\n      <td>United States of America</td>\n      <td>Soviet Union</td>\n      <td>0</td>\n      <td>2.347960</td>\n      <td>2.031439</td>\n      <td>0.578589</td>\n      <td>15</td>\n      <td>0</td>\n      <td>0</td>\n    </tr>\n    <tr>\n      <th>7908</th>\n      <td>1971</td>\n      <td>United States of America</td>\n      <td>Venezuela</td>\n      <td>0</td>\n      <td>48.576928</td>\n      <td>2.628437</td>\n      <td>2.572071</td>\n      <td>1</td>\n      <td>0</td>\n      <td>0</td>\n    </tr>\n    <tr>\n      <th>7910</th>\n      <td>1971</td>\n      <td>Venezuela</td>\n      <td>Soviet Union</td>\n      <td>0</td>\n      <td>0.048335</td>\n      <td>0.772870</td>\n      <td>0.224951</td>\n      <td>16</td>\n      <td>0</td>\n      <td>0</td>\n    </tr>\n  </tbody>\n</table>\n<p>8275 rows × 10 columns</p>\n</div>"
     },
     "execution_count": 3,
     "metadata": {},
     "output_type": "execute_result"
    }
   ],
   "source": [
    "import pandas as pd\n",
    "\n",
    "df = pd.read_csv('dyadic with ratio.csv')\n",
    "# sort by year, country A, country B\n",
    "df = df.sort_values(by=['Year', 'Country A', 'Country B'])\n",
    "# get rows where year is 1970 or 1971\n",
    "df = df[(df['Year'] == 1970) | (df['Year'] == 1971)]\n",
    "df"
   ]
  },
  {
   "cell_type": "code",
   "execution_count": 9,
   "metadata": {
    "id": "3GcsnU8Zzs0V",
    "outputId": "e25af1e2-6b43-49e2-ef03-2220e0eff5d1",
    "ExecuteTime": {
     "end_time": "2024-03-21T17:35:27.158303Z",
     "start_time": "2024-03-21T17:35:27.151999Z"
    }
   },
   "outputs": [
    {
     "data": {
      "text/plain": "<bound method DataFrame.info of         Year     Country A   Country B  War or not  gdp_ratio  \\\n0       1970  Afghanistan     Algeria            0   0.269549   \n1       1970  Afghanistan   Argentina            0   0.130739   \n2       1970  Afghanistan   Australia            0   0.085572   \n3       1970  Afghanistan     Austria            0   0.200369   \n4       1970  Afghanistan     Belgium            0   0.136827   \n...      ...           ...         ...         ...        ...   \n435409  2018       Zambia      Kosovo            0   3.719826   \n435408  2018       Zambia      Taiwan            0   0.043439   \n435407  2018       Zambia    Zimbabwe            0   1.103183   \n435411  2018     Zimbabwe      Kosovo            0   3.371904   \n435410  2018     Zimbabwe      Taiwan            0   0.039376   \n\n        gdp_per_capita_ratio  Military_expenditure_ratio  \\\n0                   0.331358                    0.764880   \n1                   0.247690                    0.867838   \n2                   0.093302                    0.549422   \n3                   0.126971                    1.180763   \n4                   0.112021                    0.558344   \n...                      ...                         ...   \n435409              0.388527                    1.786999   \n435408              0.059595                    0.824741   \n435407              0.942048                    1.263391   \n435411              0.412429                    1.414447   \n435410              0.063261                    0.652800   \n\n        Democracy_differential  Share Border or not  Political Instability  \n0                            2                    0                      0  \n1                            2                    0                      0  \n2                           17                    0                      0  \n3                           17                    0                      0  \n4                           17                    0                      0  \n...                        ...                  ...                    ...  \n435409                       2                    0                      0  \n435408                       4                    0                      0  \n435407                       2                    1                      0  \n435411                       4                    0                      0  \n435410                       6                    0                      0  \n\n[447181 rows x 10 columns]>"
     },
     "execution_count": 9,
     "metadata": {},
     "output_type": "execute_result"
    }
   ],
   "source": [
    "df.info"
   ]
  },
  {
   "cell_type": "code",
   "execution_count": 10,
   "metadata": {
    "ExecuteTime": {
     "end_time": "2024-03-21T17:35:27.164969Z",
     "start_time": "2024-03-21T17:35:27.159246Z"
    }
   },
   "outputs": [
    {
     "data": {
      "text/plain": "Year                            int64\nCountry A                      object\nCountry B                      object\nWar or not                      int64\ngdp_ratio                     float64\ngdp_per_capita_ratio          float64\nMilitary_expenditure_ratio    float64\nDemocracy_differential          int64\nShare Border or not             int64\nPolitical Instability           int64\ndtype: object"
     },
     "execution_count": 10,
     "metadata": {},
     "output_type": "execute_result"
    }
   ],
   "source": [
    "df.dtypes"
   ]
  },
  {
   "cell_type": "code",
   "execution_count": 11,
   "metadata": {
    "id": "oNA6kqPuzs0W",
    "outputId": "634eada0-152a-4812-a599-7e2b3078aec6",
    "ExecuteTime": {
     "end_time": "2024-03-21T17:35:27.247515Z",
     "start_time": "2024-03-21T17:35:27.161704Z"
    }
   },
   "outputs": [
    {
     "data": {
      "text/plain": "Year                            0\nCountry A                       0\nCountry B                       0\nWar or not                      0\ngdp_ratio                       0\ngdp_per_capita_ratio            0\nMilitary_expenditure_ratio    103\nDemocracy_differential          0\nShare Border or not             0\nPolitical Instability           0\ndtype: int64"
     },
     "execution_count": 11,
     "metadata": {},
     "output_type": "execute_result"
    }
   ],
   "source": [
    "df.isna().sum()"
   ]
  },
  {
   "cell_type": "code",
   "execution_count": 12,
   "metadata": {
    "id": "Z1CB-7ZXzs0W",
    "ExecuteTime": {
     "end_time": "2024-03-21T17:35:27.333197Z",
     "start_time": "2024-03-21T17:35:27.225166Z"
    }
   },
   "outputs": [],
   "source": [
    "df = df.dropna()"
   ]
  },
  {
   "cell_type": "code",
   "execution_count": 13,
   "metadata": {
    "id": "1a9FmMzVzs0W",
    "outputId": "2db24ea9-dab7-4371-db8c-9975de609290",
    "ExecuteTime": {
     "end_time": "2024-03-21T17:35:27.400223Z",
     "start_time": "2024-03-21T17:35:27.305462Z"
    }
   },
   "outputs": [
    {
     "data": {
      "text/plain": "                               count         mean          std          min  \\\nYear                        447078.0  1997.990937    12.928737  1970.000000   \nWar or not                  447078.0     0.000154     0.012422     0.000000   \ngdp_ratio                   447078.0    15.469726   102.326949     0.000050   \ngdp_per_capita_ratio        447078.0     3.029671     5.997417     0.004746   \nMilitary_expenditure_ratio  447078.0    47.731657  3157.922087     0.000000   \nDemocracy_differential      447078.0     7.404981     6.020114     0.000000   \nShare Border or not         447078.0     0.023054     0.150076     0.000000   \nPolitical Instability       447078.0     0.075063     0.272860     0.000000   \n\n                                    25%          50%          75%  \\\nYear                        1988.000000  1999.000000  2009.000000   \nWar or not                     0.000000     0.000000     0.000000   \ngdp_ratio                      0.122347     0.747779     4.503127   \ngdp_per_capita_ratio           0.276218     0.897976     2.872614   \nMilitary_expenditure_ratio     0.479263     0.956668     1.939015   \nDemocracy_differential         2.000000     6.000000    13.000000   \nShare Border or not            0.000000     0.000000     0.000000   \nPolitical Instability          0.000000     0.000000     0.000000   \n\n                                      max  \nYear                          2018.000000  \nWar or not                       1.000000  \ngdp_ratio                     7534.613878  \ngdp_per_capita_ratio           154.846154  \nMilitary_expenditure_ratio  961947.803600  \nDemocracy_differential          20.000000  \nShare Border or not              1.000000  \nPolitical Instability            2.000000  ",
      "text/html": "<div>\n<style scoped>\n    .dataframe tbody tr th:only-of-type {\n        vertical-align: middle;\n    }\n\n    .dataframe tbody tr th {\n        vertical-align: top;\n    }\n\n    .dataframe thead th {\n        text-align: right;\n    }\n</style>\n<table border=\"1\" class=\"dataframe\">\n  <thead>\n    <tr style=\"text-align: right;\">\n      <th></th>\n      <th>count</th>\n      <th>mean</th>\n      <th>std</th>\n      <th>min</th>\n      <th>25%</th>\n      <th>50%</th>\n      <th>75%</th>\n      <th>max</th>\n    </tr>\n  </thead>\n  <tbody>\n    <tr>\n      <th>Year</th>\n      <td>447078.0</td>\n      <td>1997.990937</td>\n      <td>12.928737</td>\n      <td>1970.000000</td>\n      <td>1988.000000</td>\n      <td>1999.000000</td>\n      <td>2009.000000</td>\n      <td>2018.000000</td>\n    </tr>\n    <tr>\n      <th>War or not</th>\n      <td>447078.0</td>\n      <td>0.000154</td>\n      <td>0.012422</td>\n      <td>0.000000</td>\n      <td>0.000000</td>\n      <td>0.000000</td>\n      <td>0.000000</td>\n      <td>1.000000</td>\n    </tr>\n    <tr>\n      <th>gdp_ratio</th>\n      <td>447078.0</td>\n      <td>15.469726</td>\n      <td>102.326949</td>\n      <td>0.000050</td>\n      <td>0.122347</td>\n      <td>0.747779</td>\n      <td>4.503127</td>\n      <td>7534.613878</td>\n    </tr>\n    <tr>\n      <th>gdp_per_capita_ratio</th>\n      <td>447078.0</td>\n      <td>3.029671</td>\n      <td>5.997417</td>\n      <td>0.004746</td>\n      <td>0.276218</td>\n      <td>0.897976</td>\n      <td>2.872614</td>\n      <td>154.846154</td>\n    </tr>\n    <tr>\n      <th>Military_expenditure_ratio</th>\n      <td>447078.0</td>\n      <td>47.731657</td>\n      <td>3157.922087</td>\n      <td>0.000000</td>\n      <td>0.479263</td>\n      <td>0.956668</td>\n      <td>1.939015</td>\n      <td>961947.803600</td>\n    </tr>\n    <tr>\n      <th>Democracy_differential</th>\n      <td>447078.0</td>\n      <td>7.404981</td>\n      <td>6.020114</td>\n      <td>0.000000</td>\n      <td>2.000000</td>\n      <td>6.000000</td>\n      <td>13.000000</td>\n      <td>20.000000</td>\n    </tr>\n    <tr>\n      <th>Share Border or not</th>\n      <td>447078.0</td>\n      <td>0.023054</td>\n      <td>0.150076</td>\n      <td>0.000000</td>\n      <td>0.000000</td>\n      <td>0.000000</td>\n      <td>0.000000</td>\n      <td>1.000000</td>\n    </tr>\n    <tr>\n      <th>Political Instability</th>\n      <td>447078.0</td>\n      <td>0.075063</td>\n      <td>0.272860</td>\n      <td>0.000000</td>\n      <td>0.000000</td>\n      <td>0.000000</td>\n      <td>0.000000</td>\n      <td>2.000000</td>\n    </tr>\n  </tbody>\n</table>\n</div>"
     },
     "execution_count": 13,
     "metadata": {},
     "output_type": "execute_result"
    }
   ],
   "source": [
    "df.describe().T"
   ]
  },
  {
   "cell_type": "markdown",
   "metadata": {
    "id": "C-MrO0sXzs0X"
   },
   "source": [
    "### Exploratory Data Analysis Visulaisation"
   ]
  },
  {
   "cell_type": "markdown",
   "source": [
    "#### 2. Normalisation"
   ],
   "metadata": {
    "collapsed": false
   }
  },
  {
   "cell_type": "code",
   "execution_count": 15,
   "metadata": {
    "colab": {
     "base_uri": "https://localhost:8080/"
    },
    "id": "El73JmYgzs0Z",
    "outputId": "2327e3e6-d0ab-43b1-905d-f81ae1e89212",
    "ExecuteTime": {
     "end_time": "2024-03-21T17:35:28.060513Z",
     "start_time": "2024-03-21T17:35:27.816607Z"
    }
   },
   "outputs": [
    {
     "name": "stderr",
     "output_type": "stream",
     "text": [
      "/var/folders/88/v5lhf14x1r5bv01kg4dwr5780000gn/T/ipykernel_21274/3062392132.py:7: SettingWithCopyWarning: \n",
      "A value is trying to be set on a copy of a slice from a DataFrame.\n",
      "Try using .loc[row_indexer,col_indexer] = value instead\n",
      "\n",
      "See the caveats in the documentation: https://pandas.pydata.org/pandas-docs/stable/user_guide/indexing.html#returning-a-view-versus-a-copy\n",
      "  df[['gdp_ratio', 'gdp_per_capita_ratio','Military_expenditure_ratio','Democracy_differential']] = scaler.fit_transform(df[['gdp_ratio', 'gdp_per_capita_ratio','Military_expenditure_ratio','Democracy_differential']])\n"
     ]
    },
    {
     "data": {
      "text/plain": "   Year     Country A   Country B  War or not  gdp_ratio  \\\n0  1970  Afghanistan     Algeria            0   0.000036   \n1  1970  Afghanistan   Argentina            0   0.000017   \n2  1970  Afghanistan   Australia            0   0.000011   \n3  1970  Afghanistan     Austria            0   0.000027   \n4  1970  Afghanistan     Belgium            0   0.000018   \n\n   gdp_per_capita_ratio  Military_expenditure_ratio  Democracy_differential  \\\n0              0.002109                7.951363e-07                    0.10   \n1              0.001569                9.021670e-07                    0.10   \n2              0.000572                5.711560e-07                    0.85   \n3              0.000789                1.227471e-06                    0.85   \n4              0.000693                5.804310e-07                    0.85   \n\n   Share Border or not  Political Instability  \n0                    0                      0  \n1                    0                      0  \n2                    0                      0  \n3                    0                      0  \n4                    0                      0  ",
      "text/html": "<div>\n<style scoped>\n    .dataframe tbody tr th:only-of-type {\n        vertical-align: middle;\n    }\n\n    .dataframe tbody tr th {\n        vertical-align: top;\n    }\n\n    .dataframe thead th {\n        text-align: right;\n    }\n</style>\n<table border=\"1\" class=\"dataframe\">\n  <thead>\n    <tr style=\"text-align: right;\">\n      <th></th>\n      <th>Year</th>\n      <th>Country A</th>\n      <th>Country B</th>\n      <th>War or not</th>\n      <th>gdp_ratio</th>\n      <th>gdp_per_capita_ratio</th>\n      <th>Military_expenditure_ratio</th>\n      <th>Democracy_differential</th>\n      <th>Share Border or not</th>\n      <th>Political Instability</th>\n    </tr>\n  </thead>\n  <tbody>\n    <tr>\n      <th>0</th>\n      <td>1970</td>\n      <td>Afghanistan</td>\n      <td>Algeria</td>\n      <td>0</td>\n      <td>0.000036</td>\n      <td>0.002109</td>\n      <td>7.951363e-07</td>\n      <td>0.10</td>\n      <td>0</td>\n      <td>0</td>\n    </tr>\n    <tr>\n      <th>1</th>\n      <td>1970</td>\n      <td>Afghanistan</td>\n      <td>Argentina</td>\n      <td>0</td>\n      <td>0.000017</td>\n      <td>0.001569</td>\n      <td>9.021670e-07</td>\n      <td>0.10</td>\n      <td>0</td>\n      <td>0</td>\n    </tr>\n    <tr>\n      <th>2</th>\n      <td>1970</td>\n      <td>Afghanistan</td>\n      <td>Australia</td>\n      <td>0</td>\n      <td>0.000011</td>\n      <td>0.000572</td>\n      <td>5.711560e-07</td>\n      <td>0.85</td>\n      <td>0</td>\n      <td>0</td>\n    </tr>\n    <tr>\n      <th>3</th>\n      <td>1970</td>\n      <td>Afghanistan</td>\n      <td>Austria</td>\n      <td>0</td>\n      <td>0.000027</td>\n      <td>0.000789</td>\n      <td>1.227471e-06</td>\n      <td>0.85</td>\n      <td>0</td>\n      <td>0</td>\n    </tr>\n    <tr>\n      <th>4</th>\n      <td>1970</td>\n      <td>Afghanistan</td>\n      <td>Belgium</td>\n      <td>0</td>\n      <td>0.000018</td>\n      <td>0.000693</td>\n      <td>5.804310e-07</td>\n      <td>0.85</td>\n      <td>0</td>\n      <td>0</td>\n    </tr>\n  </tbody>\n</table>\n</div>"
     },
     "execution_count": 15,
     "metadata": {},
     "output_type": "execute_result"
    }
   ],
   "source": [
    "from sklearn.preprocessing import MinMaxScaler\n",
    "\n",
    "# Instantiate the MinMaxScaler\n",
    "scaler = MinMaxScaler()\n",
    "\n",
    "# Rescale the selected columns\n",
    "df[['gdp_ratio', 'gdp_per_capita_ratio','Military_expenditure_ratio','Democracy_differential']] = scaler.fit_transform(df[['gdp_ratio', 'gdp_per_capita_ratio','Military_expenditure_ratio','Democracy_differential']])\n",
    "df.head()"
   ]
  },
  {
   "cell_type": "markdown",
   "metadata": {
    "id": "EegVYVqozs0Z"
   },
   "source": [
    "#### 3. Data Description after Normalization"
   ]
  },
  {
   "cell_type": "code",
   "execution_count": 16,
   "outputs": [
    {
     "data": {
      "text/plain": "                               count         mean        std     min  \\\nYear                        447078.0  1997.990937  12.928737  1970.0   \nWar or not                  447078.0     0.000154   0.012422     0.0   \ngdp_ratio                   447078.0     0.002053   0.013581     0.0   \ngdp_per_capita_ratio        447078.0     0.019536   0.038733     0.0   \nMilitary_expenditure_ratio  447078.0     0.000050   0.003283     0.0   \nDemocracy_differential      447078.0     0.370249   0.301006     0.0   \nShare Border or not         447078.0     0.023054   0.150076     0.0   \nPolitical Instability       447078.0     0.075063   0.272860     0.0   \n\n                                     25%           50%          75%     max  \nYear                        1.988000e+03  1.999000e+03  2009.000000  2018.0  \nWar or not                  0.000000e+00  0.000000e+00     0.000000     1.0  \ngdp_ratio                   1.623129e-05  9.923909e-05     0.000598     1.0  \ngdp_per_capita_ratio        1.753224e-03  5.768677e-03     0.018521     1.0  \nMilitary_expenditure_ratio  4.982213e-07  9.945118e-07     0.000002     1.0  \nDemocracy_differential      1.000000e-01  3.000000e-01     0.650000     1.0  \nShare Border or not         0.000000e+00  0.000000e+00     0.000000     1.0  \nPolitical Instability       0.000000e+00  0.000000e+00     0.000000     2.0  ",
      "text/html": "<div>\n<style scoped>\n    .dataframe tbody tr th:only-of-type {\n        vertical-align: middle;\n    }\n\n    .dataframe tbody tr th {\n        vertical-align: top;\n    }\n\n    .dataframe thead th {\n        text-align: right;\n    }\n</style>\n<table border=\"1\" class=\"dataframe\">\n  <thead>\n    <tr style=\"text-align: right;\">\n      <th></th>\n      <th>count</th>\n      <th>mean</th>\n      <th>std</th>\n      <th>min</th>\n      <th>25%</th>\n      <th>50%</th>\n      <th>75%</th>\n      <th>max</th>\n    </tr>\n  </thead>\n  <tbody>\n    <tr>\n      <th>Year</th>\n      <td>447078.0</td>\n      <td>1997.990937</td>\n      <td>12.928737</td>\n      <td>1970.0</td>\n      <td>1.988000e+03</td>\n      <td>1.999000e+03</td>\n      <td>2009.000000</td>\n      <td>2018.0</td>\n    </tr>\n    <tr>\n      <th>War or not</th>\n      <td>447078.0</td>\n      <td>0.000154</td>\n      <td>0.012422</td>\n      <td>0.0</td>\n      <td>0.000000e+00</td>\n      <td>0.000000e+00</td>\n      <td>0.000000</td>\n      <td>1.0</td>\n    </tr>\n    <tr>\n      <th>gdp_ratio</th>\n      <td>447078.0</td>\n      <td>0.002053</td>\n      <td>0.013581</td>\n      <td>0.0</td>\n      <td>1.623129e-05</td>\n      <td>9.923909e-05</td>\n      <td>0.000598</td>\n      <td>1.0</td>\n    </tr>\n    <tr>\n      <th>gdp_per_capita_ratio</th>\n      <td>447078.0</td>\n      <td>0.019536</td>\n      <td>0.038733</td>\n      <td>0.0</td>\n      <td>1.753224e-03</td>\n      <td>5.768677e-03</td>\n      <td>0.018521</td>\n      <td>1.0</td>\n    </tr>\n    <tr>\n      <th>Military_expenditure_ratio</th>\n      <td>447078.0</td>\n      <td>0.000050</td>\n      <td>0.003283</td>\n      <td>0.0</td>\n      <td>4.982213e-07</td>\n      <td>9.945118e-07</td>\n      <td>0.000002</td>\n      <td>1.0</td>\n    </tr>\n    <tr>\n      <th>Democracy_differential</th>\n      <td>447078.0</td>\n      <td>0.370249</td>\n      <td>0.301006</td>\n      <td>0.0</td>\n      <td>1.000000e-01</td>\n      <td>3.000000e-01</td>\n      <td>0.650000</td>\n      <td>1.0</td>\n    </tr>\n    <tr>\n      <th>Share Border or not</th>\n      <td>447078.0</td>\n      <td>0.023054</td>\n      <td>0.150076</td>\n      <td>0.0</td>\n      <td>0.000000e+00</td>\n      <td>0.000000e+00</td>\n      <td>0.000000</td>\n      <td>1.0</td>\n    </tr>\n    <tr>\n      <th>Political Instability</th>\n      <td>447078.0</td>\n      <td>0.075063</td>\n      <td>0.272860</td>\n      <td>0.0</td>\n      <td>0.000000e+00</td>\n      <td>0.000000e+00</td>\n      <td>0.000000</td>\n      <td>2.0</td>\n    </tr>\n  </tbody>\n</table>\n</div>"
     },
     "execution_count": 16,
     "metadata": {},
     "output_type": "execute_result"
    }
   ],
   "source": [
    "df_description_normalized = df.describe().T\n",
    "df.describe().T"
   ],
   "metadata": {
    "collapsed": false,
    "ExecuteTime": {
     "end_time": "2024-03-21T17:35:28.249973Z",
     "start_time": "2024-03-21T17:35:28.059519Z"
    }
   }
  },
  {
   "cell_type": "code",
   "execution_count": 17,
   "outputs": [
    {
     "name": "stdout",
     "output_type": "stream",
     "text": [
      "3.10.13 (main, Sep 11 2023, 08:16:02) [Clang 14.0.6 ]\n"
     ]
    }
   ],
   "source": [
    "# print python version\n",
    "import sys\n",
    "print(sys.version)"
   ],
   "metadata": {
    "collapsed": false,
    "ExecuteTime": {
     "end_time": "2024-03-21T17:35:28.252076Z",
     "start_time": "2024-03-21T17:35:28.250119Z"
    }
   }
  },
  {
   "cell_type": "code",
   "execution_count": 7,
   "outputs": [
    {
     "data": {
      "text/plain": "tensor([[2.6955e-01, 3.3136e-01, 7.6488e-01, 2.0000e+00, 0.0000e+00, 0.0000e+00],\n        [1.3074e-01, 2.4769e-01, 8.6784e-01, 2.0000e+00, 0.0000e+00, 0.0000e+00],\n        [8.5572e-02, 9.3302e-02, 5.4942e-01, 1.7000e+01, 0.0000e+00, 0.0000e+00],\n        ...,\n        [2.3480e+00, 2.0314e+00, 5.7859e-01, 1.5000e+01, 0.0000e+00, 0.0000e+00],\n        [4.8577e+01, 2.6284e+00, 2.5721e+00, 1.0000e+00, 0.0000e+00, 0.0000e+00],\n        [4.8335e-02, 7.7287e-01, 2.2495e-01, 1.6000e+01, 0.0000e+00, 0.0000e+00]])"
     },
     "execution_count": 7,
     "metadata": {},
     "output_type": "execute_result"
    }
   ],
   "source": [
    "import torch\n",
    "\n",
    "from torch_geometric.data import Data, DataLoader\n",
    "import pandas as pd\n",
    "import numpy as np\n",
    "\n",
    "# Simulating node features would require unique country identification and feature aggregation\n",
    "# For this example, let's focus on converting your pairwise features into edge data\n",
    "\n",
    "# Assuming `df` is your DataFrame\n",
    "countries = pd.concat([df['Country A'], df['Country B']]).unique()\n",
    "country_to_idx = {country: i for i, country in enumerate(countries)}\n",
    "\n",
    "edges = []\n",
    "edge_attrs = []\n",
    "for _, row in df.iterrows():\n",
    "    edge = [country_to_idx[row['Country A']], country_to_idx[row['Country B']]]\n",
    "    attrs = row[['gdp_ratio', 'gdp_per_capita_ratio', 'Military_expenditure_ratio', 'Democracy_differential', 'Share Border or not', 'Political Instability']].values\n",
    "    edges.append(edge)\n",
    "    edge_attrs.append(attrs)\n",
    "\n",
    "edge_index = torch.tensor(edges, dtype=torch.long).t().contiguous()\n",
    "edge_attrs = [list(map(float, attrs)) for attrs in edge_attrs]\n",
    "\n",
    "# Convert to a numpy array and then to a tensor\n",
    "edge_attr_np = np.array(edge_attrs, dtype=np.float32)  # Ensure dtype is float32 for consistency\n",
    "edge_attr = torch.tensor(edge_attr_np, dtype=torch.float)\n",
    "\n",
    "edge_attr"
   ],
   "metadata": {
    "collapsed": false,
    "ExecuteTime": {
     "end_time": "2024-03-21T17:43:10.015125Z",
     "start_time": "2024-03-21T17:43:09.118597Z"
    }
   }
  },
  {
   "cell_type": "code",
   "execution_count": 9,
   "outputs": [],
   "source": [
    "from torch_geometric.nn import MessagePassing\n",
    "from torch_geometric.utils import add_self_loops, degree\n",
    "import torch.nn.functional as F\n",
    "\n",
    "class GNNModel(MessagePassing):\n",
    "    def __init__(self, node_features, edge_features, out_channels):\n",
    "        super(GNNModel, self).__init__(aggr='mean')  # `mean` aggregation.\n",
    "        self.lin = torch.nn.Linear(node_features + edge_features, out_channels)\n",
    "\n",
    "    def forward(self, x, edge_index, edge_attr):\n",
    "        # Add self-loops to the adjacency matrix\n",
    "        edge_index, _ = add_self_loops(edge_index, num_nodes=x.size(0))\n",
    "\n",
    "        # Concatenate node features with edge attributes for every edge\n",
    "        edge_features = torch.cat([x[edge_index[0]], edge_attr], dim=1) \n",
    "        \n",
    "        return self.propagate(edge_index, size=(x.size(0), x.size(0)), x=edge_features)\n",
    "\n",
    "    def message(self, x_j):\n",
    "        # x_j represents the concatenated node features and edge attributes\n",
    "        return F.relu(self.lin(x_j))\n",
    "\n",
    "    def update(self, aggr_out):\n",
    "        # This method aggregates the messages from the `message` method\n",
    "        return aggr_out"
   ],
   "metadata": {
    "collapsed": false,
    "ExecuteTime": {
     "end_time": "2024-03-21T17:43:41.171456Z",
     "start_time": "2024-03-21T17:43:41.170611Z"
    }
   }
  },
  {
   "cell_type": "code",
   "execution_count": 10,
   "outputs": [
    {
     "name": "stderr",
     "output_type": "stream",
     "text": [
      "/Users/zakotianskyi/PycharmProjects/Global-conflict-prediction-python/venv/lib/python3.10/site-packages/torch_geometric/deprecation.py:26: UserWarning: 'data.DataLoader' is deprecated, use 'loader.DataLoader' instead\n",
      "  warnings.warn(out)\n"
     ]
    },
    {
     "ename": "RuntimeError",
     "evalue": "Sizes of tensors must match except in dimension 1. Expected size 8369 but got size 8275 for tensor number 1 in the list.",
     "output_type": "error",
     "traceback": [
      "\u001B[0;31m---------------------------------------------------------------------------\u001B[0m",
      "\u001B[0;31mRuntimeError\u001B[0m                              Traceback (most recent call last)",
      "Cell \u001B[0;32mIn[10], line 13\u001B[0m\n\u001B[1;32m     11\u001B[0m \u001B[38;5;28;01mfor\u001B[39;00m data \u001B[38;5;129;01min\u001B[39;00m loader:\n\u001B[1;32m     12\u001B[0m     optimizer\u001B[38;5;241m.\u001B[39mzero_grad()\n\u001B[0;32m---> 13\u001B[0m     output \u001B[38;5;241m=\u001B[39m \u001B[43mmodel\u001B[49m\u001B[43m(\u001B[49m\u001B[43mdata\u001B[49m\u001B[38;5;241;43m.\u001B[39;49m\u001B[43mx\u001B[49m\u001B[43m,\u001B[49m\u001B[43m \u001B[49m\u001B[43mdata\u001B[49m\u001B[38;5;241;43m.\u001B[39;49m\u001B[43medge_index\u001B[49m\u001B[43m,\u001B[49m\u001B[43m \u001B[49m\u001B[43mdata\u001B[49m\u001B[38;5;241;43m.\u001B[39;49m\u001B[43medge_attr\u001B[49m\u001B[43m)\u001B[49m\n\u001B[1;32m     14\u001B[0m     loss \u001B[38;5;241m=\u001B[39m criterion(output, data\u001B[38;5;241m.\u001B[39my\u001B[38;5;241m.\u001B[39mfloat())\n\u001B[1;32m     15\u001B[0m     loss\u001B[38;5;241m.\u001B[39mbackward()\n",
      "File \u001B[0;32m~/PycharmProjects/Global-conflict-prediction-python/venv/lib/python3.10/site-packages/torch/nn/modules/module.py:1511\u001B[0m, in \u001B[0;36mModule._wrapped_call_impl\u001B[0;34m(self, *args, **kwargs)\u001B[0m\n\u001B[1;32m   1509\u001B[0m     \u001B[38;5;28;01mreturn\u001B[39;00m \u001B[38;5;28mself\u001B[39m\u001B[38;5;241m.\u001B[39m_compiled_call_impl(\u001B[38;5;241m*\u001B[39margs, \u001B[38;5;241m*\u001B[39m\u001B[38;5;241m*\u001B[39mkwargs)  \u001B[38;5;66;03m# type: ignore[misc]\u001B[39;00m\n\u001B[1;32m   1510\u001B[0m \u001B[38;5;28;01melse\u001B[39;00m:\n\u001B[0;32m-> 1511\u001B[0m     \u001B[38;5;28;01mreturn\u001B[39;00m \u001B[38;5;28;43mself\u001B[39;49m\u001B[38;5;241;43m.\u001B[39;49m\u001B[43m_call_impl\u001B[49m\u001B[43m(\u001B[49m\u001B[38;5;241;43m*\u001B[39;49m\u001B[43margs\u001B[49m\u001B[43m,\u001B[49m\u001B[43m \u001B[49m\u001B[38;5;241;43m*\u001B[39;49m\u001B[38;5;241;43m*\u001B[39;49m\u001B[43mkwargs\u001B[49m\u001B[43m)\u001B[49m\n",
      "File \u001B[0;32m~/PycharmProjects/Global-conflict-prediction-python/venv/lib/python3.10/site-packages/torch/nn/modules/module.py:1520\u001B[0m, in \u001B[0;36mModule._call_impl\u001B[0;34m(self, *args, **kwargs)\u001B[0m\n\u001B[1;32m   1515\u001B[0m \u001B[38;5;66;03m# If we don't have any hooks, we want to skip the rest of the logic in\u001B[39;00m\n\u001B[1;32m   1516\u001B[0m \u001B[38;5;66;03m# this function, and just call forward.\u001B[39;00m\n\u001B[1;32m   1517\u001B[0m \u001B[38;5;28;01mif\u001B[39;00m \u001B[38;5;129;01mnot\u001B[39;00m (\u001B[38;5;28mself\u001B[39m\u001B[38;5;241m.\u001B[39m_backward_hooks \u001B[38;5;129;01mor\u001B[39;00m \u001B[38;5;28mself\u001B[39m\u001B[38;5;241m.\u001B[39m_backward_pre_hooks \u001B[38;5;129;01mor\u001B[39;00m \u001B[38;5;28mself\u001B[39m\u001B[38;5;241m.\u001B[39m_forward_hooks \u001B[38;5;129;01mor\u001B[39;00m \u001B[38;5;28mself\u001B[39m\u001B[38;5;241m.\u001B[39m_forward_pre_hooks\n\u001B[1;32m   1518\u001B[0m         \u001B[38;5;129;01mor\u001B[39;00m _global_backward_pre_hooks \u001B[38;5;129;01mor\u001B[39;00m _global_backward_hooks\n\u001B[1;32m   1519\u001B[0m         \u001B[38;5;129;01mor\u001B[39;00m _global_forward_hooks \u001B[38;5;129;01mor\u001B[39;00m _global_forward_pre_hooks):\n\u001B[0;32m-> 1520\u001B[0m     \u001B[38;5;28;01mreturn\u001B[39;00m \u001B[43mforward_call\u001B[49m\u001B[43m(\u001B[49m\u001B[38;5;241;43m*\u001B[39;49m\u001B[43margs\u001B[49m\u001B[43m,\u001B[49m\u001B[43m \u001B[49m\u001B[38;5;241;43m*\u001B[39;49m\u001B[38;5;241;43m*\u001B[39;49m\u001B[43mkwargs\u001B[49m\u001B[43m)\u001B[49m\n\u001B[1;32m   1522\u001B[0m \u001B[38;5;28;01mtry\u001B[39;00m:\n\u001B[1;32m   1523\u001B[0m     result \u001B[38;5;241m=\u001B[39m \u001B[38;5;28;01mNone\u001B[39;00m\n",
      "Cell \u001B[0;32mIn[9], line 15\u001B[0m, in \u001B[0;36mGNNModel.forward\u001B[0;34m(self, x, edge_index, edge_attr)\u001B[0m\n\u001B[1;32m     12\u001B[0m edge_index, _ \u001B[38;5;241m=\u001B[39m add_self_loops(edge_index, num_nodes\u001B[38;5;241m=\u001B[39mx\u001B[38;5;241m.\u001B[39msize(\u001B[38;5;241m0\u001B[39m))\n\u001B[1;32m     14\u001B[0m \u001B[38;5;66;03m# Concatenate node features with edge attributes for every edge\u001B[39;00m\n\u001B[0;32m---> 15\u001B[0m edge_features \u001B[38;5;241m=\u001B[39m \u001B[43mtorch\u001B[49m\u001B[38;5;241;43m.\u001B[39;49m\u001B[43mcat\u001B[49m\u001B[43m(\u001B[49m\u001B[43m[\u001B[49m\u001B[43mx\u001B[49m\u001B[43m[\u001B[49m\u001B[43medge_index\u001B[49m\u001B[43m[\u001B[49m\u001B[38;5;241;43m0\u001B[39;49m\u001B[43m]\u001B[49m\u001B[43m]\u001B[49m\u001B[43m,\u001B[49m\u001B[43m \u001B[49m\u001B[43medge_attr\u001B[49m\u001B[43m]\u001B[49m\u001B[43m,\u001B[49m\u001B[43m \u001B[49m\u001B[43mdim\u001B[49m\u001B[38;5;241;43m=\u001B[39;49m\u001B[38;5;241;43m1\u001B[39;49m\u001B[43m)\u001B[49m \n\u001B[1;32m     17\u001B[0m \u001B[38;5;28;01mreturn\u001B[39;00m \u001B[38;5;28mself\u001B[39m\u001B[38;5;241m.\u001B[39mpropagate(edge_index, size\u001B[38;5;241m=\u001B[39m(x\u001B[38;5;241m.\u001B[39msize(\u001B[38;5;241m0\u001B[39m), x\u001B[38;5;241m.\u001B[39msize(\u001B[38;5;241m0\u001B[39m)), x\u001B[38;5;241m=\u001B[39medge_features)\n",
      "\u001B[0;31mRuntimeError\u001B[0m: Sizes of tensors must match except in dimension 1. Expected size 8369 but got size 8275 for tensor number 1 in the list."
     ]
    }
   ],
   "source": [
    "# Placeholder for node features - let's create a simple tensor of ones for demonstration\n",
    "node_features = torch.ones((len(countries), 10), dtype=torch.float)  # Assuming 10 generic features per country\n",
    "\n",
    "data = Data(x=node_features, edge_index=edge_index, edge_attr=edge_attr)\n",
    "loader = DataLoader([data], batch_size=1)\n",
    "\n",
    "model = GNNModel(node_features=10, edge_features=6, out_channels=1)\n",
    "optimizer = torch.optim.Adam(model.parameters(), lr=0.01)\n",
    "criterion = torch.nn.BCEWithLogitsLoss()\n",
    "\n",
    "for data in loader:\n",
    "    optimizer.zero_grad()\n",
    "    output = model(data.x, data.edge_index, data.edge_attr)\n",
    "    loss = criterion(output, data.y.float())\n",
    "    loss.backward()\n",
    "    optimizer.step()"
   ],
   "metadata": {
    "collapsed": false,
    "ExecuteTime": {
     "end_time": "2024-03-21T17:43:51.965637Z",
     "start_time": "2024-03-21T17:43:51.773442Z"
    }
   }
  }
 ],
 "metadata": {
  "colab": {
   "provenance": []
  },
  "kernelspec": {
   "display_name": "Python 3 (ipykernel)",
   "language": "python",
   "name": "python3"
  },
  "language_info": {
   "codemirror_mode": {
    "name": "ipython",
    "version": 3
   },
   "file_extension": ".py",
   "mimetype": "text/x-python",
   "name": "python",
   "nbconvert_exporter": "python",
   "pygments_lexer": "ipython3",
   "version": "3.9.12"
  },
  "vscode": {
   "interpreter": {
    "hash": "b12592c80c6915907549f5dda5eb3be15e4afb4733583f99c80240137ccd24fd"
   }
  }
 },
 "nbformat": 4,
 "nbformat_minor": 0
}
