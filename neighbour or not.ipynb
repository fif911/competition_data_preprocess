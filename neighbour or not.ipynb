{
 "cells": [
  {
   "cell_type": "code",
   "execution_count": 3,
   "id": "9fa8fff8",
   "metadata": {},
   "outputs": [],
   "source": [
    "import pandas as pd\n",
    "\n",
    "# Load your datasets into pandas DataFrames\n",
    "dyadic_df = pd.read_excel('dyadic-7-22.xlsx')\n",
    "border_df = pd.read_csv('GEODATASOURCE-COUNTRY-BORDERS.CSV')\n",
    "code_mapping_df = pd.read_csv('countries_codes_and_coordinates.csv')\n",
    "\n",
    "# Create a mapping from Alpha-2 code to Alpha-3 code\n",
    "code_mapping = code_mapping_df.set_index('Alpha-2 code')['Alpha-3 code'].to_dict()\n",
    "\n",
    "# Apply the mapping to both country_code and country_border_code columns in border_df\n",
    "border_df['country_code'] = border_df['country_code'].map(code_mapping)\n",
    "border_df['country_border_code'] = border_df['country_border_code'].map(code_mapping)\n",
    "\n",
    "# Prepare border pairs as a set of tuples\n",
    "border_pairs = set(tuple(sorted(pair)) for pair in border_df[['country_code', 'country_border_code']].values)\n",
    "\n",
    "# Prepare dyadic pairs to compare\n",
    "dyadic_df['pairs'] = dyadic_df.apply(lambda row: tuple(sorted([row['Country A Code'], row['Country B Code']])), axis=1)\n",
    "\n",
    "# Map 'pairs' to a new column 'Share Border or not' (1 if pair is in border_pairs, 0 otherwise)\n",
    "dyadic_df['Share Border or not'] = dyadic_df['pairs'].apply(lambda x: 1 if x in border_pairs else 0)\n",
    "\n",
    "# Drop the 'pairs' column as it's not needed anymore\n",
    "dyadic_df = dyadic_df.drop(columns='pairs')\n",
    "\n",
    "# The dyadic_df now contains your original data plus an indication whether countries A and B share a border"
   ]
  },
  {
   "cell_type": "code",
   "execution_count": 5,
   "id": "8df16e5e",
   "metadata": {},
   "outputs": [],
   "source": [
    "dyadic_df.to_excel('dyadic-7-24.xlsx')"
   ]
  },
  {
   "cell_type": "code",
   "execution_count": 6,
   "id": "55da9369",
   "metadata": {},
   "outputs": [
    {
     "name": "stdout",
     "output_type": "stream",
     "text": [
      "Border_df NaN values after mapping: country_code           642\n",
      "country_name             0\n",
      "country_border_code    642\n",
      "country_border_name      0\n",
      "dtype: int64\n"
     ]
    }
   ],
   "source": [
    "import pandas as pd\n",
    "\n",
    "# Load your datasets into pandas DataFrames\n",
    "dyadic_df = pd.read_excel('dyadic-7-22.xlsx')\n",
    "border_df = pd.read_csv('GEODATASOURCE-COUNTRY-BORDERS.CSV')\n",
    "code_mapping_df = pd.read_csv('countries_codes_and_coordinates.csv')\n",
    "\n",
    "# Create a mapping from Alpha-2 code to Alpha-3 code\n",
    "code_mapping = code_mapping_df.set_index('Alpha-2 code')['Alpha-3 code'].to_dict()\n",
    "\n",
    "# Apply the mapping to both country_code and country_border_code columns in border_df\n",
    "border_df['country_code'] = border_df['country_code'].map(code_mapping)\n",
    "border_df['country_border_code'] = border_df['country_border_code'].map(code_mapping)\n",
    "\n",
    "# Check for NaN values\n",
    "print(\"Border_df NaN values after mapping:\", border_df.isna().sum())\n"
   ]
  },
  {
   "cell_type": "code",
   "execution_count": 7,
   "id": "f8981aad",
   "metadata": {},
   "outputs": [
    {
     "name": "stdout",
     "output_type": "stream",
     "text": [
      "Some border pairs: [(nan, nan)]\n"
     ]
    }
   ],
   "source": [
    "# Prepare border pairs as a set of tuples\n",
    "border_pairs = set(tuple(sorted(pair)) for pair in border_df[['country_code', 'country_border_code']].values)\n",
    "\n",
    "# Print out some border pairs for inspection\n",
    "print(\"Some border pairs:\", list(border_pairs)[:5])"
   ]
  },
  {
   "cell_type": "code",
   "execution_count": null,
   "id": "afcd6b2f",
   "metadata": {},
   "outputs": [],
   "source": [
    "# Prepare dyadic pairs to compare\n",
    "dyadic_df['pairs'] = dyadic_df.apply(lambda row: tuple(sorted([row['Country A Code'], row['Country B Code']])), axis=1)\n",
    "\n",
    "# Print out some dyadic pairs for inspection\n",
    "print(\"Some dyadic pairs:\", dyadic_df['pairs'].iloc[:5].values)"
   ]
  },
  {
   "cell_type": "code",
   "execution_count": null,
   "id": "addef352",
   "metadata": {},
   "outputs": [],
   "source": [
    "# Map 'pairs' to a new column 'Share Border or not' (1 if pair is in border_pairs, 0 otherwise)\n",
    "dyadic_df['Share Border or not'] = dyadic_df['pairs'].apply(lambda x: 1 if x in border_pairs else 0)\n",
    "\n",
    "# Drop the 'pairs' column as it's not needed anymore\n",
    "dyadic_df = dyadic_df.drop(columns='pairs')\n",
    "\n",
    "# Print out the number of neighboring and non-neighboring pairs\n",
    "print(\"Neighboring pairs:\", (dyadic_df['Share Border or not'] == 1).sum())\n",
    "print(\"Non-neighboring pairs:\", (dyadic_df['Share Border or not'] == 0).sum())\n",
    "\n",
    "# The dyadic_df now contains your original data plus an indication whether countries A and B share a border"
   ]
  },
  {
   "cell_type": "code",
   "execution_count": 8,
   "id": "d432b843",
   "metadata": {},
   "outputs": [
    {
     "name": "stdout",
     "output_type": "stream",
     "text": [
      "Missing country codes: [nan]\n",
      "Missing border country codes: [nan]\n"
     ]
    }
   ],
   "source": [
    "missing_codes = border_df.loc[border_df['country_code'].isna() | border_df['country_border_code'].isna(), 'country_code'].unique()\n",
    "missing_border_codes = border_df.loc[border_df['country_code'].isna() | border_df['country_border_code'].isna(), 'country_border_code'].unique()\n",
    "\n",
    "print(\"Missing country codes:\", missing_codes)\n",
    "print(\"Missing border country codes:\", missing_border_codes)"
   ]
  },
  {
   "cell_type": "code",
   "execution_count": null,
   "id": "a2b915c6",
   "metadata": {},
   "outputs": [],
   "source": []
  }
 ],
 "metadata": {
  "kernelspec": {
   "display_name": "Python 3 (ipykernel)",
   "language": "python",
   "name": "python3"
  },
  "language_info": {
   "codemirror_mode": {
    "name": "ipython",
    "version": 3
   },
   "file_extension": ".py",
   "mimetype": "text/x-python",
   "name": "python",
   "nbconvert_exporter": "python",
   "pygments_lexer": "ipython3",
   "version": "3.9.12"
  }
 },
 "nbformat": 4,
 "nbformat_minor": 5
}
